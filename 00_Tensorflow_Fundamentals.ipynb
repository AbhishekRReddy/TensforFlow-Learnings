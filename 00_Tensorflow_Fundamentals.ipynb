{
  "nbformat": 4,
  "nbformat_minor": 0,
  "metadata": {
    "colab": {
      "name": "00_Tensorflow_Fundamentals.ipynb",
      "provenance": [],
      "collapsed_sections": [],
      "authorship_tag": "ABX9TyP0E0BuC6nA838zELA5dvVZ",
      "include_colab_link": true
    },
    "kernelspec": {
      "name": "python3",
      "display_name": "Python 3"
    },
    "language_info": {
      "name": "python"
    }
  },
  "cells": [
    {
      "cell_type": "markdown",
      "metadata": {
        "id": "view-in-github",
        "colab_type": "text"
      },
      "source": [
        "<a href=\"https://colab.research.google.com/github/AbhishekRReddy/TensforFlow-Learnings/blob/main/00_Tensorflow_Fundamentals.ipynb\" target=\"_parent\"><img src=\"https://colab.research.google.com/assets/colab-badge.svg\" alt=\"Open In Colab\"/></a>"
      ]
    },
    {
      "cell_type": "markdown",
      "source": [
        "## Outline\n",
        "* Introduction to tensors.\n",
        "* Getting information from the tensors.\n",
        "* Manipulating the tensors.\n",
        "* Tensors and NumPy\n",
        "* Using @tf.function (A Way to speed up the regular Python Functions)\n",
        "* Using the GPUs with TensorFLow (or TPUs)"
      ],
      "metadata": {
        "id": "dkOr8_7m8omY"
      }
    },
    {
      "cell_type": "markdown",
      "source": [
        "# Intruduction to Tensors"
      ],
      "metadata": {
        "id": "0KKoWuQQ--5q"
      }
    },
    {
      "cell_type": "code",
      "source": [
        "# Import Tensorflow\n",
        "import tensorflow as tf\n",
        "print(tf.__version__)"
      ],
      "metadata": {
        "colab": {
          "base_uri": "https://localhost:8080/"
        },
        "id": "PFBncU9L_Dlq",
        "outputId": "7733fff0-4265-437a-db7f-d47a4b6b6db8"
      },
      "execution_count": 2,
      "outputs": [
        {
          "output_type": "stream",
          "name": "stdout",
          "text": [
            "2.7.0\n"
          ]
        }
      ]
    },
    {
      "cell_type": "code",
      "source": [
        "# Creating the Tensors with tf.constant()\n",
        "scalar= tf.constant(7)\n",
        "scalar"
      ],
      "metadata": {
        "colab": {
          "base_uri": "https://localhost:8080/"
        },
        "id": "LeiBtdhz_J0T",
        "outputId": "3d461ed0-bca9-4e90-ce29-ac0fce56456e"
      },
      "execution_count": 4,
      "outputs": [
        {
          "output_type": "execute_result",
          "data": {
            "text/plain": [
              "<tf.Tensor: shape=(), dtype=int32, numpy=7>"
            ]
          },
          "metadata": {},
          "execution_count": 4
        }
      ]
    },
    {
      "cell_type": "code",
      "source": [
        "# Check the number of dimensions of a tensor (ndim-number of dimension)\n",
        "scalar.ndim"
      ],
      "metadata": {
        "colab": {
          "base_uri": "https://localhost:8080/"
        },
        "id": "EX3NO3XW_fmf",
        "outputId": "5a4b0d2b-46f0-4687-9abb-58a580f2f4f1"
      },
      "execution_count": 5,
      "outputs": [
        {
          "output_type": "execute_result",
          "data": {
            "text/plain": [
              "0"
            ]
          },
          "metadata": {},
          "execution_count": 5
        }
      ]
    },
    {
      "cell_type": "code",
      "source": [
        "# Create a vector \n",
        "vector= tf.constant([10,10])\n",
        "vector"
      ],
      "metadata": {
        "colab": {
          "base_uri": "https://localhost:8080/"
        },
        "id": "2v_NnM0gACc-",
        "outputId": "0a96551d-b0dc-486b-c866-58c534f17133"
      },
      "execution_count": 7,
      "outputs": [
        {
          "output_type": "execute_result",
          "data": {
            "text/plain": [
              "<tf.Tensor: shape=(2,), dtype=int32, numpy=array([10, 10], dtype=int32)>"
            ]
          },
          "metadata": {},
          "execution_count": 7
        }
      ]
    },
    {
      "cell_type": "code",
      "source": [
        "#Check the dimension of vector\n",
        "vector.ndim"
      ],
      "metadata": {
        "colab": {
          "base_uri": "https://localhost:8080/"
        },
        "id": "E0sSSDtOAJ0s",
        "outputId": "d5abcd26-09ad-4f4a-e364-fc043ade5a43"
      },
      "execution_count": 8,
      "outputs": [
        {
          "output_type": "execute_result",
          "data": {
            "text/plain": [
              "1"
            ]
          },
          "metadata": {},
          "execution_count": 8
        }
      ]
    },
    {
      "cell_type": "code",
      "source": [
        "#Create a matrix (Has more than 1 Dimension)\n",
        "matrix=tf.constant([[10,7],[7,10]])\n",
        "matrix"
      ],
      "metadata": {
        "colab": {
          "base_uri": "https://localhost:8080/"
        },
        "id": "oVxN-G8DAXnX",
        "outputId": "5b15ae3f-ba1e-4d4c-ce1b-026a9aa92621"
      },
      "execution_count": 9,
      "outputs": [
        {
          "output_type": "execute_result",
          "data": {
            "text/plain": [
              "<tf.Tensor: shape=(2, 2), dtype=int32, numpy=\n",
              "array([[10,  7],\n",
              "       [ 7, 10]], dtype=int32)>"
            ]
          },
          "metadata": {},
          "execution_count": 9
        }
      ]
    },
    {
      "cell_type": "code",
      "source": [
        "matrix.ndim"
      ],
      "metadata": {
        "colab": {
          "base_uri": "https://localhost:8080/"
        },
        "id": "pgTs_FBBAm9a",
        "outputId": "b2ce41b9-b28a-4543-9331-fbbf151246e3"
      },
      "execution_count": 10,
      "outputs": [
        {
          "output_type": "execute_result",
          "data": {
            "text/plain": [
              "2"
            ]
          },
          "metadata": {},
          "execution_count": 10
        }
      ]
    },
    {
      "cell_type": "code",
      "source": [
        "#Create another matrix\n",
        "another_matrix=tf.constant([[10.,7.],\n",
        "                            [3.,2.],\n",
        "                            [8.,9,]],dtype=tf.float16) #we specify the datatype\n",
        "another_matrix"
      ],
      "metadata": {
        "colab": {
          "base_uri": "https://localhost:8080/"
        },
        "id": "klpjvB_hAu61",
        "outputId": "a40b5b21-95a4-4f29-b3e5-814d9ccaf99d"
      },
      "execution_count": 11,
      "outputs": [
        {
          "output_type": "execute_result",
          "data": {
            "text/plain": [
              "<tf.Tensor: shape=(3, 2), dtype=float16, numpy=\n",
              "array([[10.,  7.],\n",
              "       [ 3.,  2.],\n",
              "       [ 8.,  9.]], dtype=float16)>"
            ]
          },
          "metadata": {},
          "execution_count": 11
        }
      ]
    },
    {
      "cell_type": "code",
      "source": [
        "another_matrix.ndim"
      ],
      "metadata": {
        "colab": {
          "base_uri": "https://localhost:8080/"
        },
        "id": "woFA-UzxBaRW",
        "outputId": "a771d62e-2752-43b5-8f9b-d59e8b0aeb27"
      },
      "execution_count": 12,
      "outputs": [
        {
          "output_type": "execute_result",
          "data": {
            "text/plain": [
              "2"
            ]
          },
          "metadata": {},
          "execution_count": 12
        }
      ]
    },
    {
      "cell_type": "code",
      "source": [
        "#Lets create tensor \n",
        "tensor=tf.constant([[[1,2,3],[3,5,6]],[[7,8,9],[0,0,0]],[[5,8,1],[0,2,5]]])\n",
        "tensor"
      ],
      "metadata": {
        "colab": {
          "base_uri": "https://localhost:8080/"
        },
        "id": "6HU5y9O1Be99",
        "outputId": "b17ee998-c4d5-4e1b-db69-34b6deaa7a8c"
      },
      "execution_count": 15,
      "outputs": [
        {
          "output_type": "execute_result",
          "data": {
            "text/plain": [
              "<tf.Tensor: shape=(3, 2, 3), dtype=int32, numpy=\n",
              "array([[[1, 2, 3],\n",
              "        [3, 5, 6]],\n",
              "\n",
              "       [[7, 8, 9],\n",
              "        [0, 0, 0]],\n",
              "\n",
              "       [[5, 8, 1],\n",
              "        [0, 2, 5]]], dtype=int32)>"
            ]
          },
          "metadata": {},
          "execution_count": 15
        }
      ]
    },
    {
      "cell_type": "code",
      "source": [
        "tensor.ndim"
      ],
      "metadata": {
        "colab": {
          "base_uri": "https://localhost:8080/"
        },
        "id": "WCunIVzwDCAS",
        "outputId": "1cacc9b4-c605-4004-9927-01c3624a79ea"
      },
      "execution_count": 16,
      "outputs": [
        {
          "output_type": "execute_result",
          "data": {
            "text/plain": [
              "3"
            ]
          },
          "metadata": {},
          "execution_count": 16
        }
      ]
    },
    {
      "cell_type": "markdown",
      "source": [
        "### So far what we have learn is.....\n",
        "\n",
        "* Scalar : A Single number\n",
        "* Vector: A number with direction \n",
        "* Matrix : A 3 dimensional array of numbers\n",
        "* Tensor: n-dimensional array of numbers"
      ],
      "metadata": {
        "id": "svWwug4tDE6E"
      }
    },
    {
      "cell_type": "code",
      "source": [
        ""
      ],
      "metadata": {
        "id": "3k7V9RgrD9n0"
      },
      "execution_count": null,
      "outputs": []
    }
  ]
}